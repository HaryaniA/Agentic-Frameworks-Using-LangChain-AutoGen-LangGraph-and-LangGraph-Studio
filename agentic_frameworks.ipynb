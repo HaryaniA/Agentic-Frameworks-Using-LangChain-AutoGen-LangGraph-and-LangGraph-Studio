{
  "cells": [
    {
      "cell_type": "markdown",
      "metadata": {
        "id": "Wa-oEvUDHaLj"
      },
      "source": [
        "# Understanding AI Agents: A Simple Guide to LangChain, AutoGen, LangGraph, and LangGraph Studio\n"
      ]
    },
    {
      "cell_type": "markdown",
      "metadata": {
        "id": "LpqtXDJzHaLm"
      },
      "source": [
        "## Setup and Installation\n",
        "\n",
        "First, let's install the necessary packages:"
      ]
    },
    {
      "cell_type": "code",
      "execution_count": null,
      "metadata": {
        "id": "MB1TU_z3HaLm"
      },
      "outputs": [],
      "source": [
        "# Install required packages\n",
        "!pip install langchain langchain_openai wikipedia pyautogen langgraph"
      ]
    },
    {
      "cell_type": "markdown",
      "metadata": {
        "id": "LKPqfZyaHaLn"
      },
      "source": [
        "## LangChain Agent Framework\n",
        "\n",
        "[LangChain](https://www.langchain.com/) provides a popular framework for building LLM-powered agents.\n",
        "\n",
        "### Key Concepts in LangChain\n",
        "\n",
        "1. **Agents**: The central entity that decides what actions to take\n",
        "2. **Tools**: Functions that agents can call to interact with the world\n",
        "3. **Memory**: Storage mechanisms for preserving context\n",
        "4. **Chains**: Sequences of operations that can be composed together"
      ]
    },
    {
      "cell_type": "markdown",
      "metadata": {
        "id": "rK369Ie2HaLn"
      },
      "source": [
        "### Simple LangChain Agent Example with Wikipedia Search"
      ]
    },
    {
      "cell_type": "code",
      "execution_count": null,
      "metadata": {
        "id": "26rbjFTBHaLn",
        "outputId": "d7d53f6d-fb53-454b-9c7f-7ab8a7ce8486"
      },
      "outputs": [
        {
          "name": "stdout",
          "output_type": "stream",
          "text": [
            "\n",
            "\n",
            "\u001b[1m> Entering new AgentExecutor chain...\u001b[0m\n",
            "\u001b[32;1m\u001b[1;3mThought: I should use Wikipedia to search for information about Northeastern university and their research programs.\n",
            "Action: Wikipedia\n",
            "Action Input: 'Northeastern University'\u001b[0m\u001b[36;1m\u001b[1;3mPage: Northeastern University\n",
            "Summary: Northeastern University (NU or NEU) is a private research university with its main campus in Boston, Massachusetts, United States. It was founded by the Boston Young Men's Christian Association in 1898 as an all-male institute before being incorporated as Northeastern College in 1916, gaining university status in 1922. With more than 38,000 students, Northeastern is the largest university in Massachusetts by enrollment.\n",
            "Northeastern is a large, highly residential university which is composed of ten colleges, including the Northeastern University School of Law. The university's main campus in Boston is located within the center of the city along Huntington Avenue and Columbus Avenue near the Fenway–Kenmore and Roxbury neighborhoods. It offers undergraduate and graduate programs, and most undergraduates participate in a cooperative education program. Northeastern is accredited by the New England Commission of Higher Education and is a member of the Boston Consortium for Higher Education. It is classified among \"R1: Doctoral Universities – Very high research activity\".\n",
            "Northeastern maintains satellite campuses in Charlotte, North Carolina; Seattle, Washington; San Jose, California; Oakland, California; Portland, Maine; Burlington, Massachusetts;  Miami, Florida; London; and Toronto and Vancouver in Canada. In 2019, it purchased the New College of the Humanities, establishing an additional campus in London, England. The university's sports teams, the Northeastern Huskies, compete in NCAA Division I as members of the Coastal Athletic Association (CAA) in 18 varsity sports. The men's and women's hockey teams compete in Hockey East, while the men's and women's rowing teams compete in the Eastern Association of Rowing Colleges (EARC) and Eastern Association of Women's Rowing Colleges (EAWRC), respectively.\n",
            "\n",
            "Page: Northeastern University (China)\n",
            "Summary: Northeastern University (NEU) is a public university in Shenyang, Liaoning, China. It is affiliated with the Ministry of Education, and co-funded by the Ministry of Education, SASTIND, Liaoning Provincial People's Government, and Shenyang Municipal People's Government. The university is part of Project 211, Project 985, and the Double First-Class Construction.\n",
            "\n",
            "Page: Northeastern University – London\n",
            "Summary: Northeastern University – London is a public university in London, England. It was founded in 2010 as New College of the Humanities by the philosopher A. C. Grayling, who became its first Master. The college originally specialized in the humanities, social sciences, and master's degrees at the intersection of the humanities and technology. In February 2019 the college was acquired by Northeastern University, a private American research university based in Boston, Massachusetts, and rebranded as NCH at Northeastern. A year later, in February 2020, NCH at Northeastern was granted its own taught degree awarding powers. It was awarded university title and changed its name to \"Northeastern University – London\" after regulatory approval by the Office for Students in July 2022.\n",
            "The university's campus is located in the St Katharine Docks area of London.\u001b[0m\u001b[32;1m\u001b[1;3mI now know the final answer.\n",
            "Final Answer: Northeastern University is located in Boston, Massachusetts, but also has satellite campuses in Charlotte, Seattle, San Jose, Oakland, Portland, Burlington, Miami, London, and Toronto and Vancouver in Canada. They offer undergraduate and graduate programs, and are known for their cooperative education program. They also have a campus in Shenyang, China and a campus in London, England, which was originally founded as New College of the Humanities and later acquired by Northeastern University.\u001b[0m\n",
            "\n",
            "\u001b[1m> Finished chain.\u001b[0m\n"
          ]
        },
        {
          "data": {
            "text/plain": [
              "{'input': 'Where is Northeastern university located? What are the research programs they offer?',\n",
              " 'output': 'Northeastern University is located in Boston, Massachusetts, but also has satellite campuses in Charlotte, Seattle, San Jose, Oakland, Portland, Burlington, Miami, London, and Toronto and Vancouver in Canada. They offer undergraduate and graduate programs, and are known for their cooperative education program. They also have a campus in Shenyang, China and a campus in London, England, which was originally founded as New College of the Humanities and later acquired by Northeastern University.'}"
            ]
          },
          "execution_count": 1,
          "metadata": {},
          "output_type": "execute_result"
        }
      ],
      "source": [
        "from langchain.agents import create_react_agent, AgentExecutor\n",
        "from langchain.tools.wikipedia.tool import WikipediaQueryRun\n",
        "from langchain_community.utilities import WikipediaAPIWrapper\n",
        "from langchain_openai import OpenAI\n",
        "from langchain.prompts import PromptTemplate\n",
        "from langchain.tools import Tool\n",
        "\n",
        "# Set up Wikipedia search tool\n",
        "wikipedia = WikipediaAPIWrapper()\n",
        "wikipedia_tool = WikipediaQueryRun(api_wrapper=wikipedia)\n",
        "\n",
        "# Create the tool properly as a Tool object, not a dictionary\n",
        "tools = [\n",
        "    Tool(\n",
        "        name=\"Wikipedia\",\n",
        "        func=wikipedia_tool.run,\n",
        "        description=\"Useful for searching Wikipedia for information\"\n",
        "    )\n",
        "]\n",
        "\n",
        "# Initialize the LLM\n",
        "llm = OpenAI(temperature=0)\n",
        "\n",
        "# Create the prompt template for the agent with agent_scratchpad included\n",
        "template = \"\"\"Answer the following questions as best you can. You have access to the following tools:\n",
        "\n",
        "{tools}\n",
        "\n",
        "Use the following format:\n",
        "\n",
        "Question: the input question you must answer\n",
        "Thought: you should always think about what to do\n",
        "Action: the action to take, should be one of [{tool_names}]\n",
        "Action Input: the input to the action\n",
        "Observation: the result of the action\n",
        "... (this Thought/Action/Action Input/Observation can repeat N times)\n",
        "Thought: I now know the final answer\n",
        "Final Answer: the final answer to the original input question\n",
        "\n",
        "Begin!\n",
        "\n",
        "Question: {input}\n",
        "{agent_scratchpad}\"\"\"\n",
        "\n",
        "prompt = PromptTemplate.from_template(template)\n",
        "\n",
        "# Create the agent\n",
        "agent = create_react_agent(llm, tools, prompt)\n",
        "\n",
        "# Create an agent executor\n",
        "agent_executor = AgentExecutor(agent=agent, tools=tools, verbose=True)\n",
        "\n",
        "# Run the agent\n",
        "agent_executor.invoke({\"input\": \"Where is Northeastern university located? What are the research programs they offer?\"})"
      ]
    },
    {
      "cell_type": "markdown",
      "metadata": {
        "id": "Y-u7aznNHaLo"
      },
      "source": [
        "When this code runs:\n",
        "1. The agent receives a query\n",
        "2. It decides to use the Wikipedia tool to look up information about Paris\n",
        "3. It receives results and formulates an answer"
      ]
    },
    {
      "cell_type": "markdown",
      "metadata": {
        "id": "sb6oERlDHaLo"
      },
      "source": [
        "## AutoGen Framework\n",
        "\n",
        "[AutoGen](https://microsoft.github.io/autogen/) (developed by Microsoft) focuses on enabling multiple agents to collaborate with each other.\n",
        "\n",
        "### Key Concepts in AutoGen\n",
        "\n",
        "1. **Multi-Agent Conversations**: Agents can talk to each other to solve problems\n",
        "2. **Specialized Agents**: Different agents can have different roles (coder, reviewer, etc.)\n",
        "3. **Human-in-the-loop**: Humans can participate in agent conversations"
      ]
    },
    {
      "cell_type": "markdown",
      "metadata": {
        "id": "B8_le1dCHaLo"
      },
      "source": [
        "### Simple AutoGen Example with Wikipedia Search"
      ]
    },
    {
      "cell_type": "code",
      "execution_count": null,
      "metadata": {
        "id": "bvwVG3TPHaLp",
        "outputId": "bdbfdc61-6ae7-4976-b2c7-4725c34ccf6a"
      },
      "outputs": [
        {
          "name": "stdout",
          "output_type": "stream",
          "text": [
            "\u001b[33muser_proxy\u001b[0m (to assistant):\n",
            "\n",
            "What is the Eiffel Tower and when was it built?\n",
            "\n",
            "--------------------------------------------------------------------------------\n",
            "\u001b[33massistant\u001b[0m (to user_proxy):\n",
            "\n",
            "\u001b[32m***** Suggested function call: search_wikipedia *****\u001b[0m\n",
            "Arguments: \n",
            "{\"query\":\"Eiffel Tower\"}\n",
            "\u001b[32m*****************************************************\u001b[0m\n",
            "\n",
            "--------------------------------------------------------------------------------\n",
            "\u001b[35m\n",
            ">>>>>>>> EXECUTING FUNCTION search_wikipedia...\n",
            "Call ID: None\n",
            "Input arguments: {'query': 'Eiffel Tower'}\u001b[0m\n",
            "\u001b[33muser_proxy\u001b[0m (to assistant):\n",
            "\n",
            "\u001b[32m***** Response from calling function (search_wikipedia) *****\u001b[0m\n",
            "Title: Eiffel Tower\n",
            "Summary: The Eiffel Tower (  EYE-fəl; French: Tour Eiffel [tuʁ ɛfɛl] ) is a wrought-iron lattice tower on the Champ de Mars in Paris, France. It is named after the engineer Gustave Eiffel, whose company designed and built the tower from 1887 to 1889.\n",
            "Locally nicknamed \"La dame de fer\" (French for \"Iron Lady\"), it was constructed as the centerpiece of the 1889 World's Fair, and to crown the centennial anniversary of the French Revolution. Although initially criticised by some of France's leading artists and intellectuals for its design, it has since become a global cultural icon of France and one of the most recognisable structures in the world. The tower received 5,889,000 visitors in 2022. The Eiffel Tower is the most visited monument with an entrance fee in the world: 6.91 million people ascended it in 2015. It was designated a monument historique in 1964, and was named part of a UNESCO World Heritage Site (\"Paris, Banks of the Seine\") in 1991.\n",
            "The tower is 330 metres (1,083 ft) tall, about the same height as an 81-storey building, and the tallest structure in Paris. Its base is square, measuring 125 metres (410 ft) on each side. During its construction, the Eiffel Tower surpassed the Washington Monument to become the tallest human-made structure in the world, a title it held for 41 years until the Chrysler Building in New York City was finished in 1930. It was the first structure in the world to surpass both the 200-metre and 300-metre mark in height. Due to the addition of a broadcasting aerial at the top of the tower in 1957, it is now taller than the Chrysler Building by 5.2 metres (17 ft). Excluding transmitters, the Eiffel Tower is the second tallest free-standing structure in France after the Millau Viaduct.\n",
            "The tower has three levels for visitors, with restaurants on the first and second levels. The top level's upper platform is 276 m (906 ft) above the ground—the highest observation deck accessible to the public in the European Union. Tickets can be purchased to ascend by stairs or lift to the first and second levels. The climb from ground level to the first level is over 300 steps, as is the climb from the first level to the second, making the entire ascent a 600-step climb. Although there is a staircase to the top level, it is usually accessible only by lift. On this top, third level is a private apartment built for Gustave Eiffel's personal use. He decorated it with furniture by Jean Lachaise and invited friends such as Thomas Edison.\n",
            "URL: https://en.wikipedia.org/wiki/Eiffel_Tower\n",
            "\u001b[32m*************************************************************\u001b[0m\n",
            "\n",
            "--------------------------------------------------------------------------------\n",
            "\u001b[33massistant\u001b[0m (to user_proxy):\n",
            "\n",
            "The Eiffel Tower is a wrought-iron lattice tower located on the Champ de Mars in Paris, France. It is named after the engineer Gustave Eiffel, whose company designed and built the tower. The construction of the Eiffel Tower took place from 1887 to 1889, making it a centerpiece of the 1889 World's Fair, held to commemorate the centennial of the French Revolution.\n",
            "\n",
            "The Eiffel Tower is a global cultural icon of France and one of the most recognizable structures in the world. Initially, it faced criticism from some of France's leading artists and intellectuals, but today it is celebrated as an architectural and engineering marvel. The tower stands at 330 meters (1,083 feet) tall and was, for a time, the tallest human-made structure in the world until it was surpassed by the Chrysler Building in New York City in 1930.\n",
            "\n",
            "To learn more, you can visit the [Eiffel Tower Wikipedia page](https://en.wikipedia.org/wiki/Eiffel_Tower).\n",
            "\n",
            "TERMINATE\n",
            "\n",
            "--------------------------------------------------------------------------------\n",
            "\u001b[33muser_proxy\u001b[0m (to assistant):\n",
            "\n",
            "TERMINATE\n",
            "\n",
            "--------------------------------------------------------------------------------\n",
            "\n",
            "Conversation completed automatically.\n"
          ]
        }
      ],
      "source": [
        "import json\n",
        "import os\n",
        "import autogen\n",
        "from autogen import AssistantAgent, UserProxyAgent, config_list_from_json\n",
        "import wikipedia  # pip install wikipedia\n",
        "\n",
        "# Create a configuration file for API keys\n",
        "config_list = [\n",
        "    {\n",
        "        'model': 'gpt-4o',\n",
        "        'api_key': os.environ[\"OPENAI_API_KEY\"]\n",
        "    }\n",
        "]\n",
        "\n",
        "# Write the configuration to a JSON file\n",
        "with open('OAI_CONFIG_LIST.json', 'w') as f:\n",
        "    json.dump(config_list, f)\n",
        "\n",
        "# Configure agents\n",
        "config_list = config_list_from_json(\"OAI_CONFIG_LIST.json\")\n",
        "\n",
        "# Create a Wikipedia search function\n",
        "def search_wikipedia(query):\n",
        "    try:\n",
        "        # Search Wikipedia\n",
        "        search_results = wikipedia.search(query)\n",
        "\n",
        "        if not search_results:\n",
        "            return \"No results found on Wikipedia.\"\n",
        "\n",
        "        # Get the page for the first result\n",
        "        page = wikipedia.page(search_results[0])\n",
        "\n",
        "        # Get a summary\n",
        "        summary = page.summary\n",
        "\n",
        "        return f\"Title: {page.title}\\nSummary: {summary}\\nURL: {page.url}\"\n",
        "    except Exception as e:\n",
        "        return f\"Error searching Wikipedia: {str(e)}\"\n",
        "\n",
        "# Function definitions for the LLM in OpenAI format\n",
        "function_definitions = [\n",
        "    {\n",
        "        \"name\": \"search_wikipedia\",\n",
        "        \"description\": \"Search Wikipedia for information on a topic\",\n",
        "        \"parameters\": {\n",
        "            \"type\": \"object\",\n",
        "            \"properties\": {\n",
        "                \"query\": {\n",
        "                    \"type\": \"string\",\n",
        "                    \"description\": \"The topic to search for on Wikipedia\"\n",
        "                }\n",
        "            },\n",
        "            \"required\": [\"query\"]\n",
        "        }\n",
        "    }\n",
        "]\n",
        "\n",
        "# Create the assistant agent with function calling capabilities\n",
        "assistant = AssistantAgent(\n",
        "    name=\"assistant\",\n",
        "    llm_config={\n",
        "        \"config_list\": config_list,\n",
        "        \"functions\": function_definitions\n",
        "    },\n",
        "    # Add termination keywords that the assistant should recognize\n",
        "    system_message=\"You are a helpful assistant. After answering the user's question comprehensively, say 'TERMINATE' to end the conversation.\"\n",
        ")\n",
        "\n",
        "# Create the user proxy agent with function execution capability\n",
        "user_proxy = UserProxyAgent(\n",
        "    name=\"user_proxy\",\n",
        "    human_input_mode=\"NEVER\",  # Never ask for human input\n",
        "    function_map={\"search_wikipedia\": search_wikipedia},\n",
        "    # Add termination criteria\n",
        "    code_execution_config=False,  # Disable code execution prompts\n",
        "    default_auto_reply=\"TERMINATE\"  # Automatically terminate when receiving a complete answer\n",
        ")\n",
        "\n",
        "# Start the conversation with a specific question and get the result\n",
        "result = user_proxy.initiate_chat(\n",
        "    assistant,\n",
        "    message=\"What is the Eiffel Tower and when was it built?\"\n",
        ")\n",
        "\n",
        "print(\"\\nConversation completed automatically.\")"
      ]
    },
    {
      "cell_type": "markdown",
      "metadata": {
        "id": "CnKWQdUDHaLp"
      },
      "source": [
        "In this example:\n",
        "1. We create three agents: an assistant, a Wikipedia agent, and a user proxy\n",
        "2. The Wikipedia agent provides a search tool\n",
        "3. The assistant can use this tool to answer questions\n",
        "4. The agents work together to produce a response"
      ]
    },
    {
      "cell_type": "markdown",
      "metadata": {
        "id": "KMB7P32oHaLp"
      },
      "source": [
        "## LangGraph Framework\n",
        "\n",
        "[LangGraph](https://github.com/langchain-ai/langgraph) (built on top of LangChain) provides a way to create stateful, multi-step agent workflows using a graph structure.\n",
        "\n",
        "### Key Concepts in LangGraph\n",
        "\n",
        "1. **Nodes**: Individual steps in the agent's workflow\n",
        "2. **Edges**: Connections between nodes that determine execution flow\n",
        "3. **State**: Information that persists throughout the agent's execution\n",
        "4. **Conditional Logic**: The ability to follow different paths based on certain conditions"
      ]
    },
    {
      "cell_type": "markdown",
      "metadata": {
        "id": "7tBewHtlHaLq"
      },
      "source": [
        "### Simple LangGraph Example with Wikipedia Search"
      ]
    },
    {
      "cell_type": "code",
      "execution_count": null,
      "metadata": {
        "id": "aJEpYsOiHaLq",
        "outputId": "807e813d-513b-4158-c438-4ce089c8ce2e"
      },
      "outputs": [
        {
          "name": "stdout",
          "output_type": "stream",
          "text": [
            "Searching for: Who invented the telephone?\n"
          ]
        },
        {
          "data": {
            "text/html": [
              "<h3>Wikipedia Search Results:</h3>"
            ],
            "text/plain": [
              "<IPython.core.display.HTML object>"
            ]
          },
          "metadata": {},
          "output_type": "display_data"
        },
        {
          "data": {
            "text/markdown": [
              "Page: Telephone\n",
              "Summary: A telephone, colloquially referred to as a phone, is a telecommunications device that enables two or more users to conduct a conversation when they are too far apart to be easily heard directly. A telephone converts sound, typically and most efficiently the human voice, into electronic signals that are transmitted via cables and other communication channels to another telephone which reproduces the sound to the receiving user. The term is derived from Ancient Greek: τῆλε..."
            ],
            "text/plain": [
              "<IPython.core.display.Markdown object>"
            ]
          },
          "metadata": {},
          "output_type": "display_data"
        },
        {
          "data": {
            "text/html": [
              "<h2>Final Answer:</h2>"
            ],
            "text/plain": [
              "<IPython.core.display.HTML object>"
            ]
          },
          "metadata": {},
          "output_type": "display_data"
        },
        {
          "data": {
            "text/markdown": [
              "\n",
              "\n",
              "Alexander Graham Bell is credited with inventing the telephone."
            ],
            "text/plain": [
              "<IPython.core.display.Markdown object>"
            ]
          },
          "metadata": {},
          "output_type": "display_data"
        }
      ],
      "source": [
        "from langgraph.graph import StateGraph\n",
        "from langchain_openai import OpenAI\n",
        "from langchain.prompts import ChatPromptTemplate\n",
        "from langchain.tools.wikipedia.tool import WikipediaQueryRun\n",
        "from langchain_community.utilities import WikipediaAPIWrapper\n",
        "from typing import TypedDict, Annotated\n",
        "from IPython.display import display, Markdown, HTML\n",
        "\n",
        "# Define state schema\n",
        "class State(TypedDict):\n",
        "    query: str\n",
        "    search_results: Annotated[str, None]\n",
        "    response: Annotated[str, None]\n",
        "\n",
        "# Set up Wikipedia search tool\n",
        "wikipedia = WikipediaAPIWrapper()\n",
        "search_tool = WikipediaQueryRun(api_wrapper=wikipedia)\n",
        "\n",
        "# Define nodes\n",
        "def search_wikipedia(state: State) -> State:\n",
        "    \"\"\"Search Wikipedia for information related to the query\"\"\"\n",
        "    query = state[\"query\"]\n",
        "    results = search_tool.run(query)\n",
        "\n",
        "    # Display intermediate search results\n",
        "    display(HTML(\"<h3>Wikipedia Search Results:</h3>\"))\n",
        "    display(Markdown(results[:500] + \"...\" if len(results) > 500 else results))\n",
        "\n",
        "    return {\"search_results\": results}\n",
        "\n",
        "def generate_response(state: State) -> State:\n",
        "    \"\"\"Generate a response based on the search results\"\"\"\n",
        "    llm = OpenAI(temperature=0.7)\n",
        "    prompt = ChatPromptTemplate.from_template(\n",
        "        \"Based on the following information: {search_results}, \"\n",
        "        \"please answer the question: {query}\"\n",
        "    )\n",
        "    chain = prompt | llm\n",
        "    response = chain.invoke({\"search_results\": state[\"search_results\"], \"query\": state[\"query\"]})\n",
        "\n",
        "    # Check if response is a string or an object with content attribute\n",
        "    if hasattr(response, 'content'):\n",
        "        final_response = response.content\n",
        "    else:\n",
        "        # If it's already a string, use it directly\n",
        "        final_response = response\n",
        "\n",
        "    return {\"response\": final_response}\n",
        "\n",
        "# Create the graph\n",
        "workflow = StateGraph(State)\n",
        "\n",
        "# Add nodes\n",
        "workflow.add_node(\"search\", search_wikipedia)\n",
        "workflow.add_node(\"respond\", generate_response)\n",
        "\n",
        "# Add edges\n",
        "workflow.set_entry_point(\"search\")\n",
        "workflow.add_edge(\"search\", \"respond\")\n",
        "workflow.set_finish_point(\"respond\")\n",
        "\n",
        "# Compile the graph\n",
        "app = workflow.compile()\n",
        "\n",
        "# Execute the query and display the result nicely\n",
        "query = \"Who invented the telephone?\"\n",
        "print(f\"Searching for: {query}\")\n",
        "\n",
        "# Run the graph\n",
        "results = app.invoke({\"query\": query})\n",
        "\n",
        "# Display the final response in a nice format\n",
        "display(HTML(\"<h2>Final Answer:</h2>\"))\n",
        "display(Markdown(results[\"response\"]))"
      ]
    },
    {
      "cell_type": "markdown",
      "metadata": {
        "id": "WaTMF2o8HaLq"
      },
      "source": [
        "In this example:\n",
        "1. We define two nodes: one for searching Wikipedia and one for generating a response\n",
        "2. We create a graph with these nodes\n",
        "3. We define the flow: search first, then respond\n",
        "4. When executed, the graph maintains state between nodes"
      ]
    },
    {
      "cell_type": "markdown",
      "metadata": {
        "id": "i9PJ1n2eHaLq"
      },
      "source": [
        "## LangGraph Studio\n",
        "\n",
        "[LangGraph Studio](https://langchain-ai.github.io/langgraph-studio/) is a visual development environment for building and debugging LangGraph applications.\n",
        "\n",
        "### Key Features of LangGraph Studio\n",
        "\n",
        "1. **Visual Graph Builder**: Create agent workflows using a drag-and-drop interface\n",
        "2. **Real-time Testing**: Test your agent workflows as you build them\n",
        "3. **State Inspection**: Examine the state of your agent at each step\n",
        "4. **Debugging Tools**: Identify and fix issues in your agent workflows"
      ]
    },
    {
      "cell_type": "markdown",
      "metadata": {
        "id": "QYT7PETdHaLr"
      },
      "source": [
        "### Setting Up LangGraph Studio\n",
        "\n",
        "LangGraph Studio is typically run as a separate application. Here's how to install and run it:"
      ]
    },
    {
      "cell_type": "code",
      "execution_count": null,
      "metadata": {
        "id": "8MSdDZU_HaLr"
      },
      "outputs": [],
      "source": [
        "# Install LangGraph Studio\n",
        "!pip install langgraph-studio\n",
        "\n",
        "# NOTE: To run LangGraph Studio, execute the following in your terminal (not in this notebook):\n",
        "# python -m langgraph_studio"
      ]
    },
    {
      "cell_type": "markdown",
      "metadata": {
        "id": "laa0oA5ZHaLs"
      },
      "source": [
        "## Saving a LangGraph for LangGraph Studio\n",
        "\n",
        "Here's how to save a LangGraph so it can be loaded in LangGraph Studio:"
      ]
    },
    {
      "cell_type": "code",
      "execution_count": null,
      "metadata": {
        "id": "99XndaPHHaLs"
      },
      "outputs": [],
      "source": [
        "# Save the workflow for LangGraph Studio\n",
        "import pickle\n",
        "\n",
        "# Create a simple Wikipedia search graph\n",
        "from langgraph.graph import StateGraph\n",
        "from typing import TypedDict, Annotated\n",
        "\n",
        "# Define state schema\n",
        "class WikiSearchState(TypedDict):\n",
        "    query: str\n",
        "    search_results: Annotated[str, None]\n",
        "    response: Annotated[str, None]\n",
        "\n",
        "# Create a simple graph\n",
        "wiki_graph = StateGraph(WikiSearchState)\n",
        "wiki_graph.add_node(\"search\", search_wikipedia)\n",
        "wiki_graph.add_node(\"respond\", generate_response)\n",
        "wiki_graph.set_entry_point(\"search\")\n",
        "wiki_graph.add_edge(\"search\", \"respond\")\n",
        "wiki_graph.set_finish_point(\"respond\")\n",
        "\n",
        "# Save the graph definition\n",
        "with open(\"wiki_search_graph.pkl\", \"wb\") as f:\n",
        "    pickle.dump(wiki_graph, f)\n",
        "\n",
        "print(\"Saved graph for LangGraph Studio. Load it with 'python -m langgraph_studio wiki_search_graph.pkl'\")"
      ]
    },
    {
      "cell_type": "markdown",
      "metadata": {
        "id": "mxs6pQDTHaLs"
      },
      "source": [
        "## Comparing the Frameworks\n",
        "\n",
        "| Framework | Key Strength | Best Use Case |\n",
        "|-----------|--------------|---------------|\n",
        "| LangChain | Simplicity and flexibility | Single agents with multiple tools |\n",
        "| AutoGen | Multi-agent collaboration | Complex problems requiring different expertise |\n",
        "| LangGraph | Complex, stateful workflows | Multi-step reasoning with branching logic |\n",
        "| LangGraph Studio | Visual development | Rapid prototyping and debugging |"
      ]
    },
    {
      "cell_type": "markdown",
      "metadata": {
        "id": "nUVVKEeaHaLs"
      },
      "source": [
        "## Conclusion\n",
        "\n",
        "AI agents represent a powerful paradigm for extending the capabilities of LLMs. By understanding these frameworks, you can choose the right approach for your specific application:\n",
        "\n",
        "- Use **LangChain** when you need a simple, flexible agent with access to tools\n",
        "- Use **AutoGen** when you need multiple agents to collaborate\n",
        "- Use **LangGraph** when you need complex, multi-step workflows with conditional logic\n",
        "- Use **LangGraph Studio** when you want to build and debug your agent workflows visually\n",
        "\n",
        "Each framework offers different trade-offs in terms of simplicity, flexibility, and power, but they all share the common goal of making LLMs more capable by giving them agency in the world."
      ]
    }
  ],
  "metadata": {
    "kernelspec": {
      "display_name": "venv",
      "language": "python",
      "name": "python3"
    },
    "language_info": {
      "codemirror_mode": {
        "name": "ipython",
        "version": 3
      },
      "file_extension": ".py",
      "mimetype": "text/x-python",
      "name": "python",
      "nbconvert_exporter": "python",
      "pygments_lexer": "ipython3",
      "version": "3.13.1"
    },
    "colab": {
      "provenance": []
    }
  },
  "nbformat": 4,
  "nbformat_minor": 0
}